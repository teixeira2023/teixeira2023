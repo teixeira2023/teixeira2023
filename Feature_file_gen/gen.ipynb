{
 "cells": [
  {
   "cell_type": "code",
   "execution_count": 20,
   "id": "7ad688c2",
   "metadata": {},
   "outputs": [],
   "source": [
    "import csv\n",
    "import pandas as pd\n",
    "from create_csv import *\n",
    "from check_csv_files import check_csv_files\n",
    "from generate_feature import generate_empty_feature"
   ]
  },
  {
   "cell_type": "code",
   "execution_count": 3,
   "id": "bb2857af",
   "metadata": {},
   "outputs": [],
   "source": [
    "name = \"John\"\n",
    "age = 30\n",
    "hobbies = [\"reading\", \"traveling\", \"cooking\"]\n",
    "context = [     \n",
    "    \"John likes reading books\",\n",
    "    \"John likes traveling twice a year\",\n",
    "    \"John likes cooking for his family\",]\n"
   ]
  },
  {
   "cell_type": "code",
   "execution_count": null,
   "id": "6faf50ca",
   "metadata": {},
   "outputs": [
    {
     "name": "stdout",
     "output_type": "stream",
     "text": [
      "CSV file created successfully using pandas!\n"
     ]
    }
   ],
   "source": [
    "# create csv file with the following columns: name, age, hobbies, context\n",
    "create_csv_with_csv_module()\n",
    "create_csv_with_pandas()\n",
    "\n",
    "\n",
    "\n"
   ]
  },
  {
   "cell_type": "code",
   "execution_count": 22,
   "id": "7369b98e",
   "metadata": {},
   "outputs": [
    {
     "name": "stdout",
     "output_type": "stream",
     "text": [
      "Checking for CSV files in: c:\\Users\\adtfr\\Documents\\Python\\Feature_file_gen\n",
      "--------------------------------------------------\n",
      "Found 2 CSV file(s):\n",
      "\n",
      "1. File: data.csv\n",
      "   Size: 160 bytes\n",
      "   Path: c:\\Users\\adtfr\\Documents\\Python\\Feature_file_gen\\data.csv\n",
      "   Rows: 1\n",
      "   Columns: 4\n",
      "   Column names: ['name', 'age', 'hobbies', 'context']\n",
      "   First few rows:\n",
      "name  age                     hobbies                                                                                        context\n",
      "John   30 reading, traveling, cooking John likes reading books; John likes traveling twice a year; John likes cooking for his family\n",
      "------------------------------\n",
      "2. File: data_pandas.csv\n",
      "   Size: 160 bytes\n",
      "   Path: c:\\Users\\adtfr\\Documents\\Python\\Feature_file_gen\\data_pandas.csv\n",
      "   Rows: 1\n",
      "   Columns: 4\n",
      "   Column names: ['name', 'age', 'hobbies', 'context']\n",
      "   First few rows:\n",
      "name  age                     hobbies                                                                                        context\n",
      "John   30 reading, traveling, cooking John likes reading books; John likes traveling twice a year; John likes cooking for his family\n",
      "------------------------------\n"
     ]
    },
    {
     "data": {
      "text/plain": [
       "None"
      ]
     },
     "metadata": {},
     "output_type": "display_data"
    }
   ],
   "source": [
    "file = check_csv_files()\n",
    "display(file)"
   ]
  },
  {
   "cell_type": "code",
   "execution_count": 24,
   "id": "a0e02672",
   "metadata": {},
   "outputs": [
    {
     "name": "stdout",
     "output_type": "stream",
     "text": [
      "   name  age                      hobbies  \\\n",
      "0  John   30  reading, traveling, cooking   \n",
      "\n",
      "                                             context  \n",
      "0  John likes reading books; John likes traveling...  \n",
      "   name  age                      hobbies  \\\n",
      "0  John   30  reading, traveling, cooking   \n",
      "\n",
      "                                             context  \n",
      "0  John likes reading books; John likes traveling...  \n"
     ]
    }
   ],
   "source": [
    "#  read the csv\n",
    "df = pd.read_csv(\"data.csv\")\n",
    "print(df)\n",
    "df_pandas = pd.read_csv(\"data_pandas.csv\")\n",
    "print(df_pandas)\n"
   ]
  },
  {
   "cell_type": "code",
   "execution_count": 25,
   "id": "2590782a",
   "metadata": {},
   "outputs": [
    {
     "name": "stdout",
     "output_type": "stream",
     "text": [
      "✅ Feature file created successfully: Saga1.feature\n",
      "📁 Location: c:\\Users\\adtfr\\Documents\\Python\\Feature_file_gen\\Saga1.feature\n",
      "📄 Feature name: First saga test\n"
     ]
    },
    {
     "data": {
      "text/plain": [
       "'Saga1.feature'"
      ]
     },
     "execution_count": 25,
     "metadata": {},
     "output_type": "execute_result"
    }
   ],
   "source": [
    " generate_empty_feature(filename=\"Saga1\", feature_name=\"First saga test\", description=\"Only for testing\")"
   ]
  }
 ],
 "metadata": {
  "kernelspec": {
   "display_name": "Python 3",
   "language": "python",
   "name": "python3"
  },
  "language_info": {
   "codemirror_mode": {
    "name": "ipython",
    "version": 3
   },
   "file_extension": ".py",
   "mimetype": "text/x-python",
   "name": "python",
   "nbconvert_exporter": "python",
   "pygments_lexer": "ipython3",
   "version": "3.12.0"
  }
 },
 "nbformat": 4,
 "nbformat_minor": 5
}
